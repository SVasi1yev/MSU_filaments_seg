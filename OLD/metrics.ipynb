{
 "cells": [
  {
   "cell_type": "code",
   "execution_count": 1,
   "id": "85a62c20",
   "metadata": {},
   "outputs": [],
   "source": [
    "from astropy.cosmology import Planck13\n",
    "import pandas as pd\n",
    "import numpy as np\n",
    "import disperse\n",
    "from tqdm import tqdm\n",
    "import json\n",
    "%matplotlib inline\n",
    "import matplotlib.pyplot as plt"
   ]
  },
  {
   "cell_type": "code",
   "execution_count": 2,
   "id": "523b62f8",
   "metadata": {},
   "outputs": [],
   "source": [
    "cosmo = Planck13\n",
    "\n",
    "H0 = cosmo.H0.value\n",
    "Om = cosmo.Om0\n",
    "Ol = 0.69288\n",
    "Ok = 0.0\n",
    "\n",
    "sph2cart = 'dist'\n",
    "in_cart_coords = True\n",
    "\n",
    "BOARD = 'smooth'\n",
    "ANGLE = 30"
   ]
  },
  {
   "cell_type": "code",
   "execution_count": 3,
   "id": "c79bc263",
   "metadata": {},
   "outputs": [],
   "source": [
    "coma_DR7 = pd.read_csv('coma_DR7_filtered_RaDecZ.csv')\n",
    "coma_DR12 = pd.read_csv('coma_DR12_filtered_RaDecZ.csv')\n",
    "rosat = pd.read_csv('rosat_filtered_RaDecZ.csv')\n",
    "sdss_opt_gr_full = pd.read_csv('sdss_opt_gr_filtered_RaDecZ.csv')"
   ]
  },
  {
   "cell_type": "code",
   "execution_count": 4,
   "id": "39a61678",
   "metadata": {},
   "outputs": [],
   "source": [
    "# N_GAL >= 15"
   ]
  },
  {
   "cell_type": "code",
   "execution_count": 5,
   "id": "38332cd3",
   "metadata": {},
   "outputs": [],
   "source": [
    "min_n_gals = 15"
   ]
  },
  {
   "cell_type": "code",
   "execution_count": 6,
   "id": "2a6ef92c",
   "metadata": {},
   "outputs": [],
   "source": [
    "sdss_opt_gr = sdss_opt_gr_full[sdss_opt_gr_full['n_gal'] >= min_n_gals]\n",
    "sdss_opt_gr.reset_index(drop=True, inplace=True)"
   ]
  },
  {
   "cell_type": "code",
   "execution_count": 7,
   "id": "1d1678eb",
   "metadata": {},
   "outputs": [],
   "source": [
    "DPS = disperse.Disperse3D(\n",
    "    coma_DR12, sdss_opt_gr, '_disperse_03/bin/',\n",
    "    H0, Om, Ol, Ok,\n",
    "    sph2cart_f=sph2cart\n",
    ")\n",
    "DPS.count_cart_coords()\n",
    "\n",
    "CX = DPS.galaxies['CX']\n",
    "CY = DPS.galaxies['CY']\n",
    "CZ = DPS.galaxies['CZ']\n",
    "\n",
    "CX_int = (CX.min(), CX.max())\n",
    "CY_int = (CY.min(), CY.max())\n",
    "CZ_int = (CZ.min(), CZ.max())\n",
    "\n",
    "np.random.seed(0)\n",
    "\n",
    "random_clusters_num = 5\n",
    "random_clusters = []\n",
    "for i in range(random_clusters_num):\n",
    "    cx = np.random.uniform(CX_int[0], CX_int[1], DPS.clusters.shape[0])\n",
    "    cy = np.random.uniform(CY_int[0], CY_int[1], DPS.clusters.shape[0])\n",
    "    cz = np.random.uniform(CZ_int[0], CZ_int[1], DPS.clusters.shape[0])\n",
    "    df = pd.DataFrame()\n",
    "    df = df.assign(CX=cx)\n",
    "    df = df.assign(CY=cy)\n",
    "    df = df.assign(CZ=cz)\n",
    "    df = df.assign(R200=DPS.clusters['R200'])\n",
    "    random_clusters.append(df)"
   ]
  },
  {
   "cell_type": "code",
   "execution_count": 8,
   "id": "38881ade",
   "metadata": {},
   "outputs": [
    {
     "data": {
      "text/html": [
       "<div>\n",
       "<style scoped>\n",
       "    .dataframe tbody tr th:only-of-type {\n",
       "        vertical-align: middle;\n",
       "    }\n",
       "\n",
       "    .dataframe tbody tr th {\n",
       "        vertical-align: top;\n",
       "    }\n",
       "\n",
       "    .dataframe thead th {\n",
       "        text-align: right;\n",
       "    }\n",
       "</style>\n",
       "<table border=\"1\" class=\"dataframe\">\n",
       "  <thead>\n",
       "    <tr style=\"text-align: right;\">\n",
       "      <th></th>\n",
       "      <th>CX</th>\n",
       "      <th>CY</th>\n",
       "      <th>CZ</th>\n",
       "      <th>R200</th>\n",
       "    </tr>\n",
       "  </thead>\n",
       "  <tbody>\n",
       "    <tr>\n",
       "      <th>0</th>\n",
       "      <td>-84.754430</td>\n",
       "      <td>-80.441688</td>\n",
       "      <td>30.109617</td>\n",
       "      <td>1.794430</td>\n",
       "    </tr>\n",
       "    <tr>\n",
       "      <th>1</th>\n",
       "      <td>-55.744866</td>\n",
       "      <td>75.866360</td>\n",
       "      <td>50.748292</td>\n",
       "      <td>1.262930</td>\n",
       "    </tr>\n",
       "    <tr>\n",
       "      <th>2</th>\n",
       "      <td>-75.347643</td>\n",
       "      <td>-106.638644</td>\n",
       "      <td>133.815451</td>\n",
       "      <td>1.407870</td>\n",
       "    </tr>\n",
       "    <tr>\n",
       "      <th>3</th>\n",
       "      <td>-85.439727</td>\n",
       "      <td>121.981974</td>\n",
       "      <td>164.183359</td>\n",
       "      <td>1.102600</td>\n",
       "    </tr>\n",
       "    <tr>\n",
       "      <th>4</th>\n",
       "      <td>-106.577304</td>\n",
       "      <td>42.918725</td>\n",
       "      <td>161.241446</td>\n",
       "      <td>1.072530</td>\n",
       "    </tr>\n",
       "    <tr>\n",
       "      <th>...</th>\n",
       "      <td>...</td>\n",
       "      <td>...</td>\n",
       "      <td>...</td>\n",
       "      <td>...</td>\n",
       "    </tr>\n",
       "    <tr>\n",
       "      <th>217</th>\n",
       "      <td>-113.585055</td>\n",
       "      <td>-38.328354</td>\n",
       "      <td>141.323229</td>\n",
       "      <td>0.792467</td>\n",
       "    </tr>\n",
       "    <tr>\n",
       "      <th>218</th>\n",
       "      <td>-77.866517</td>\n",
       "      <td>-54.513705</td>\n",
       "      <td>9.574399</td>\n",
       "      <td>0.549744</td>\n",
       "    </tr>\n",
       "    <tr>\n",
       "      <th>219</th>\n",
       "      <td>-35.543488</td>\n",
       "      <td>84.988491</td>\n",
       "      <td>36.988159</td>\n",
       "      <td>0.569996</td>\n",
       "    </tr>\n",
       "    <tr>\n",
       "      <th>220</th>\n",
       "      <td>-70.776149</td>\n",
       "      <td>113.689902</td>\n",
       "      <td>60.591641</td>\n",
       "      <td>0.485982</td>\n",
       "    </tr>\n",
       "    <tr>\n",
       "      <th>221</th>\n",
       "      <td>-28.289661</td>\n",
       "      <td>-148.249472</td>\n",
       "      <td>59.882757</td>\n",
       "      <td>0.734605</td>\n",
       "    </tr>\n",
       "  </tbody>\n",
       "</table>\n",
       "<p>222 rows × 4 columns</p>\n",
       "</div>"
      ],
      "text/plain": [
       "             CX          CY          CZ      R200\n",
       "0    -84.754430  -80.441688   30.109617  1.794430\n",
       "1    -55.744866   75.866360   50.748292  1.262930\n",
       "2    -75.347643 -106.638644  133.815451  1.407870\n",
       "3    -85.439727  121.981974  164.183359  1.102600\n",
       "4   -106.577304   42.918725  161.241446  1.072530\n",
       "..          ...         ...         ...       ...\n",
       "217 -113.585055  -38.328354  141.323229  0.792467\n",
       "218  -77.866517  -54.513705    9.574399  0.549744\n",
       "219  -35.543488   84.988491   36.988159  0.569996\n",
       "220  -70.776149  113.689902   60.591641  0.485982\n",
       "221  -28.289661 -148.249472   59.882757  0.734605\n",
       "\n",
       "[222 rows x 4 columns]"
      ]
     },
     "execution_count": 8,
     "metadata": {},
     "output_type": "execute_result"
    }
   ],
   "source": [
    "random_clusters[0]"
   ]
  },
  {
   "cell_type": "code",
   "execution_count": 9,
   "id": "512a7e90",
   "metadata": {},
   "outputs": [],
   "source": [
    "metrics = {}"
   ]
  },
  {
   "cell_type": "code",
   "execution_count": 10,
   "id": "af7fff30",
   "metadata": {},
   "outputs": [],
   "source": [
    "RAD_COEFS = list(np.arange(1, 20, 1.0))\n",
    "metrics['mode'] = 'MPC'\n",
    "metrics['COEFS'] = RAD_COEFS\n",
    "metrics['min_n_gals'] = min_n_gals\n",
    "metrics['total_clusters'] = sdss_opt_gr.shape[0]"
   ]
  },
  {
   "cell_type": "code",
   "execution_count": 11,
   "id": "4731b86f",
   "metadata": {},
   "outputs": [
    {
     "name": "stderr",
     "output_type": "stream",
     "text": [
      "100%|██████████| 19/19 [00:04<00:00,  4.38it/s]\n",
      "100%|██████████| 5/5 [00:14<00:00,  2.88s/it]\n",
      "100%|██████████| 19/19 [00:01<00:00,  9.50it/s]\n",
      "100%|██████████| 5/5 [00:07<00:00,  1.45s/it]\n",
      "100%|██████████| 19/19 [00:01<00:00, 15.47it/s]\n",
      "100%|██████████| 5/5 [00:04<00:00,  1.13it/s]\n"
     ]
    },
    {
     "ename": "KeyboardInterrupt",
     "evalue": "",
     "output_type": "error",
     "traceback": [
      "\u001b[0;31m---------------------------------------------------------------------------\u001b[0m",
      "\u001b[0;31mKeyboardInterrupt\u001b[0m                         Traceback (most recent call last)",
      "\u001b[0;32m<ipython-input-11-db201f61e123>\u001b[0m in \u001b[0;36m<module>\u001b[0;34m\u001b[0m\n\u001b[1;32m      9\u001b[0m         )\n\u001b[1;32m     10\u001b[0m         \u001b[0mDPS\u001b[0m\u001b[0;34m.\u001b[0m\u001b[0mcount_cart_coords\u001b[0m\u001b[0;34m(\u001b[0m\u001b[0;34m)\u001b[0m\u001b[0;34m\u001b[0m\u001b[0;34m\u001b[0m\u001b[0m\n\u001b[0;32m---> 11\u001b[0;31m         \u001b[0mDPS\u001b[0m\u001b[0;34m.\u001b[0m\u001b[0mapply_disperse\u001b[0m\u001b[0;34m(\u001b[0m\u001b[0mSIGMA\u001b[0m\u001b[0;34m,\u001b[0m \u001b[0mSMOOTH\u001b[0m\u001b[0;34m,\u001b[0m \u001b[0mBOARD\u001b[0m\u001b[0;34m,\u001b[0m \u001b[0mANGLE\u001b[0m\u001b[0;34m,\u001b[0m \u001b[0min_cart_coords\u001b[0m\u001b[0;34m)\u001b[0m\u001b[0;34m\u001b[0m\u001b[0;34m\u001b[0m\u001b[0m\n\u001b[0m\u001b[1;32m     12\u001b[0m         \u001b[0mtrue_inter\u001b[0m \u001b[0;34m=\u001b[0m \u001b[0;34m[\u001b[0m\u001b[0;34m]\u001b[0m\u001b[0;34m\u001b[0m\u001b[0;34m\u001b[0m\u001b[0m\n\u001b[1;32m     13\u001b[0m         \u001b[0mtrue_fils_inter\u001b[0m \u001b[0;34m=\u001b[0m \u001b[0;34m[\u001b[0m\u001b[0;34m]\u001b[0m\u001b[0;34m\u001b[0m\u001b[0;34m\u001b[0m\u001b[0m\n",
      "\u001b[0;32m~/projects/MSU_filaments_seg/disperse.py\u001b[0m in \u001b[0;36mapply_disperse\u001b[0;34m(self, disperse_sigma, disperse_smooth, disperse_board, disprese_asmb_angle, in_cart_coords)\u001b[0m\n\u001b[1;32m    253\u001b[0m                 \u001b[0mf\u001b[0m\u001b[0;34m.\u001b[0m\u001b[0mwrite\u001b[0m\u001b[0;34m(\u001b[0m\u001b[0;34m'# px py pz\\n'\u001b[0m\u001b[0;34m)\u001b[0m\u001b[0;34m\u001b[0m\u001b[0;34m\u001b[0m\u001b[0m\n\u001b[1;32m    254\u001b[0m                 \u001b[0;32mfor\u001b[0m \u001b[0mi\u001b[0m \u001b[0;32min\u001b[0m \u001b[0mrange\u001b[0m\u001b[0;34m(\u001b[0m\u001b[0mself\u001b[0m\u001b[0;34m.\u001b[0m\u001b[0mgalaxies\u001b[0m\u001b[0;34m.\u001b[0m\u001b[0mshape\u001b[0m\u001b[0;34m[\u001b[0m\u001b[0;36m0\u001b[0m\u001b[0;34m]\u001b[0m\u001b[0;34m)\u001b[0m\u001b[0;34m:\u001b[0m\u001b[0;34m\u001b[0m\u001b[0;34m\u001b[0m\u001b[0m\n\u001b[0;32m--> 255\u001b[0;31m                     \u001b[0mt\u001b[0m \u001b[0;34m=\u001b[0m \u001b[0mself\u001b[0m\u001b[0;34m.\u001b[0m\u001b[0mgalaxies\u001b[0m\u001b[0;34m.\u001b[0m\u001b[0miloc\u001b[0m\u001b[0;34m[\u001b[0m\u001b[0mi\u001b[0m\u001b[0;34m]\u001b[0m\u001b[0;34m\u001b[0m\u001b[0;34m\u001b[0m\u001b[0m\n\u001b[0m\u001b[1;32m    256\u001b[0m                     \u001b[0mf\u001b[0m\u001b[0;34m.\u001b[0m\u001b[0mwrite\u001b[0m\u001b[0;34m(\u001b[0m\u001b[0;34mf'{t.CX}\\t{t.CY}\\t{t.CZ}\\n'\u001b[0m\u001b[0;34m)\u001b[0m\u001b[0;34m\u001b[0m\u001b[0;34m\u001b[0m\u001b[0m\n\u001b[1;32m    257\u001b[0m         \u001b[0;32melse\u001b[0m\u001b[0;34m:\u001b[0m\u001b[0;34m\u001b[0m\u001b[0;34m\u001b[0m\u001b[0m\n",
      "\u001b[0;32m~/anaconda3/lib/python3.8/site-packages/pandas/core/indexing.py\u001b[0m in \u001b[0;36m__getitem__\u001b[0;34m(self, key)\u001b[0m\n\u001b[1;32m    893\u001b[0m \u001b[0;34m\u001b[0m\u001b[0m\n\u001b[1;32m    894\u001b[0m             \u001b[0mmaybe_callable\u001b[0m \u001b[0;34m=\u001b[0m \u001b[0mcom\u001b[0m\u001b[0;34m.\u001b[0m\u001b[0mapply_if_callable\u001b[0m\u001b[0;34m(\u001b[0m\u001b[0mkey\u001b[0m\u001b[0;34m,\u001b[0m \u001b[0mself\u001b[0m\u001b[0;34m.\u001b[0m\u001b[0mobj\u001b[0m\u001b[0;34m)\u001b[0m\u001b[0;34m\u001b[0m\u001b[0;34m\u001b[0m\u001b[0m\n\u001b[0;32m--> 895\u001b[0;31m             \u001b[0;32mreturn\u001b[0m \u001b[0mself\u001b[0m\u001b[0;34m.\u001b[0m\u001b[0m_getitem_axis\u001b[0m\u001b[0;34m(\u001b[0m\u001b[0mmaybe_callable\u001b[0m\u001b[0;34m,\u001b[0m \u001b[0maxis\u001b[0m\u001b[0;34m=\u001b[0m\u001b[0maxis\u001b[0m\u001b[0;34m)\u001b[0m\u001b[0;34m\u001b[0m\u001b[0;34m\u001b[0m\u001b[0m\n\u001b[0m\u001b[1;32m    896\u001b[0m \u001b[0;34m\u001b[0m\u001b[0m\n\u001b[1;32m    897\u001b[0m     \u001b[0;32mdef\u001b[0m \u001b[0m_is_scalar_access\u001b[0m\u001b[0;34m(\u001b[0m\u001b[0mself\u001b[0m\u001b[0;34m,\u001b[0m \u001b[0mkey\u001b[0m\u001b[0;34m:\u001b[0m \u001b[0mTuple\u001b[0m\u001b[0;34m)\u001b[0m\u001b[0;34m:\u001b[0m\u001b[0;34m\u001b[0m\u001b[0;34m\u001b[0m\u001b[0m\n",
      "\u001b[0;32m~/anaconda3/lib/python3.8/site-packages/pandas/core/indexing.py\u001b[0m in \u001b[0;36m_getitem_axis\u001b[0;34m(self, key, axis)\u001b[0m\n\u001b[1;32m   1501\u001b[0m             \u001b[0mself\u001b[0m\u001b[0;34m.\u001b[0m\u001b[0m_validate_integer\u001b[0m\u001b[0;34m(\u001b[0m\u001b[0mkey\u001b[0m\u001b[0;34m,\u001b[0m \u001b[0maxis\u001b[0m\u001b[0;34m)\u001b[0m\u001b[0;34m\u001b[0m\u001b[0;34m\u001b[0m\u001b[0m\n\u001b[1;32m   1502\u001b[0m \u001b[0;34m\u001b[0m\u001b[0m\n\u001b[0;32m-> 1503\u001b[0;31m             \u001b[0;32mreturn\u001b[0m \u001b[0mself\u001b[0m\u001b[0;34m.\u001b[0m\u001b[0mobj\u001b[0m\u001b[0;34m.\u001b[0m\u001b[0m_ixs\u001b[0m\u001b[0;34m(\u001b[0m\u001b[0mkey\u001b[0m\u001b[0;34m,\u001b[0m \u001b[0maxis\u001b[0m\u001b[0;34m=\u001b[0m\u001b[0maxis\u001b[0m\u001b[0;34m)\u001b[0m\u001b[0;34m\u001b[0m\u001b[0;34m\u001b[0m\u001b[0m\n\u001b[0m\u001b[1;32m   1504\u001b[0m \u001b[0;34m\u001b[0m\u001b[0m\n\u001b[1;32m   1505\u001b[0m     \u001b[0;32mdef\u001b[0m \u001b[0m_get_slice_axis\u001b[0m\u001b[0;34m(\u001b[0m\u001b[0mself\u001b[0m\u001b[0;34m,\u001b[0m \u001b[0mslice_obj\u001b[0m\u001b[0;34m:\u001b[0m \u001b[0mslice\u001b[0m\u001b[0;34m,\u001b[0m \u001b[0maxis\u001b[0m\u001b[0;34m:\u001b[0m \u001b[0mint\u001b[0m\u001b[0;34m)\u001b[0m\u001b[0;34m:\u001b[0m\u001b[0;34m\u001b[0m\u001b[0;34m\u001b[0m\u001b[0m\n",
      "\u001b[0;32m~/anaconda3/lib/python3.8/site-packages/pandas/core/frame.py\u001b[0m in \u001b[0;36m_ixs\u001b[0;34m(self, i, axis)\u001b[0m\n\u001b[1;32m   2949\u001b[0m             \u001b[0;31m# if we are a copy, mark as such\u001b[0m\u001b[0;34m\u001b[0m\u001b[0;34m\u001b[0m\u001b[0;34m\u001b[0m\u001b[0m\n\u001b[1;32m   2950\u001b[0m             \u001b[0mcopy\u001b[0m \u001b[0;34m=\u001b[0m \u001b[0misinstance\u001b[0m\u001b[0;34m(\u001b[0m\u001b[0mnew_values\u001b[0m\u001b[0;34m,\u001b[0m \u001b[0mnp\u001b[0m\u001b[0;34m.\u001b[0m\u001b[0mndarray\u001b[0m\u001b[0;34m)\u001b[0m \u001b[0;32mand\u001b[0m \u001b[0mnew_values\u001b[0m\u001b[0;34m.\u001b[0m\u001b[0mbase\u001b[0m \u001b[0;32mis\u001b[0m \u001b[0;32mNone\u001b[0m\u001b[0;34m\u001b[0m\u001b[0;34m\u001b[0m\u001b[0m\n\u001b[0;32m-> 2951\u001b[0;31m             result = self._constructor_sliced(\n\u001b[0m\u001b[1;32m   2952\u001b[0m                 \u001b[0mnew_values\u001b[0m\u001b[0;34m,\u001b[0m\u001b[0;34m\u001b[0m\u001b[0;34m\u001b[0m\u001b[0m\n\u001b[1;32m   2953\u001b[0m                 \u001b[0mindex\u001b[0m\u001b[0;34m=\u001b[0m\u001b[0mself\u001b[0m\u001b[0;34m.\u001b[0m\u001b[0mcolumns\u001b[0m\u001b[0;34m,\u001b[0m\u001b[0;34m\u001b[0m\u001b[0;34m\u001b[0m\u001b[0m\n",
      "\u001b[0;32m~/anaconda3/lib/python3.8/site-packages/pandas/core/series.py\u001b[0m in \u001b[0;36m__init__\u001b[0;34m(self, data, index, dtype, name, copy, fastpath)\u001b[0m\n\u001b[1;32m    362\u001b[0m                     \u001b[0mdata\u001b[0m \u001b[0;34m=\u001b[0m \u001b[0mdata\u001b[0m\u001b[0;34m.\u001b[0m\u001b[0mcopy\u001b[0m\u001b[0;34m(\u001b[0m\u001b[0;34m)\u001b[0m\u001b[0;34m\u001b[0m\u001b[0;34m\u001b[0m\u001b[0m\n\u001b[1;32m    363\u001b[0m             \u001b[0;32melse\u001b[0m\u001b[0;34m:\u001b[0m\u001b[0;34m\u001b[0m\u001b[0;34m\u001b[0m\u001b[0m\n\u001b[0;32m--> 364\u001b[0;31m                 \u001b[0mdata\u001b[0m \u001b[0;34m=\u001b[0m \u001b[0msanitize_array\u001b[0m\u001b[0;34m(\u001b[0m\u001b[0mdata\u001b[0m\u001b[0;34m,\u001b[0m \u001b[0mindex\u001b[0m\u001b[0;34m,\u001b[0m \u001b[0mdtype\u001b[0m\u001b[0;34m,\u001b[0m \u001b[0mcopy\u001b[0m\u001b[0;34m,\u001b[0m \u001b[0mraise_cast_failure\u001b[0m\u001b[0;34m=\u001b[0m\u001b[0;32mTrue\u001b[0m\u001b[0;34m)\u001b[0m\u001b[0;34m\u001b[0m\u001b[0;34m\u001b[0m\u001b[0m\n\u001b[0m\u001b[1;32m    365\u001b[0m \u001b[0;34m\u001b[0m\u001b[0m\n\u001b[1;32m    366\u001b[0m                 \u001b[0mdata\u001b[0m \u001b[0;34m=\u001b[0m \u001b[0mSingleBlockManager\u001b[0m\u001b[0;34m.\u001b[0m\u001b[0mfrom_array\u001b[0m\u001b[0;34m(\u001b[0m\u001b[0mdata\u001b[0m\u001b[0;34m,\u001b[0m \u001b[0mindex\u001b[0m\u001b[0;34m)\u001b[0m\u001b[0;34m\u001b[0m\u001b[0;34m\u001b[0m\u001b[0m\n",
      "\u001b[0;32m~/anaconda3/lib/python3.8/site-packages/pandas/core/construction.py\u001b[0m in \u001b[0;36msanitize_array\u001b[0;34m(data, index, dtype, copy, raise_cast_failure)\u001b[0m\n\u001b[1;32m    459\u001b[0m         \u001b[0;32melse\u001b[0m\u001b[0;34m:\u001b[0m\u001b[0;34m\u001b[0m\u001b[0;34m\u001b[0m\u001b[0m\n\u001b[1;32m    460\u001b[0m             \u001b[0;31m# we will try to copy be-definition here\u001b[0m\u001b[0;34m\u001b[0m\u001b[0;34m\u001b[0m\u001b[0;34m\u001b[0m\u001b[0m\n\u001b[0;32m--> 461\u001b[0;31m             \u001b[0msubarr\u001b[0m \u001b[0;34m=\u001b[0m \u001b[0m_try_cast\u001b[0m\u001b[0;34m(\u001b[0m\u001b[0mdata\u001b[0m\u001b[0;34m,\u001b[0m \u001b[0mdtype\u001b[0m\u001b[0;34m,\u001b[0m \u001b[0mcopy\u001b[0m\u001b[0;34m,\u001b[0m \u001b[0mraise_cast_failure\u001b[0m\u001b[0;34m)\u001b[0m\u001b[0;34m\u001b[0m\u001b[0;34m\u001b[0m\u001b[0m\n\u001b[0m\u001b[1;32m    462\u001b[0m \u001b[0;34m\u001b[0m\u001b[0m\n\u001b[1;32m    463\u001b[0m     \u001b[0;32melif\u001b[0m \u001b[0misinstance\u001b[0m\u001b[0;34m(\u001b[0m\u001b[0mdata\u001b[0m\u001b[0;34m,\u001b[0m \u001b[0mABCExtensionArray\u001b[0m\u001b[0;34m)\u001b[0m\u001b[0;34m:\u001b[0m\u001b[0;34m\u001b[0m\u001b[0;34m\u001b[0m\u001b[0m\n",
      "\u001b[0;32m~/anaconda3/lib/python3.8/site-packages/pandas/core/construction.py\u001b[0m in \u001b[0;36m_try_cast\u001b[0;34m(arr, dtype, copy, raise_cast_failure)\u001b[0m\n\u001b[1;32m    588\u001b[0m             \u001b[0msubarr\u001b[0m \u001b[0;34m=\u001b[0m \u001b[0marr\u001b[0m\u001b[0;34m\u001b[0m\u001b[0;34m\u001b[0m\u001b[0m\n\u001b[1;32m    589\u001b[0m         \u001b[0;32melse\u001b[0m\u001b[0;34m:\u001b[0m\u001b[0;34m\u001b[0m\u001b[0;34m\u001b[0m\u001b[0m\n\u001b[0;32m--> 590\u001b[0;31m             \u001b[0msubarr\u001b[0m \u001b[0;34m=\u001b[0m \u001b[0mmaybe_cast_to_datetime\u001b[0m\u001b[0;34m(\u001b[0m\u001b[0marr\u001b[0m\u001b[0;34m,\u001b[0m \u001b[0mdtype\u001b[0m\u001b[0;34m)\u001b[0m\u001b[0;34m\u001b[0m\u001b[0;34m\u001b[0m\u001b[0m\n\u001b[0m\u001b[1;32m    591\u001b[0m \u001b[0;34m\u001b[0m\u001b[0m\n\u001b[1;32m    592\u001b[0m         \u001b[0;31m# Take care in creating object arrays (but iterators are not\u001b[0m\u001b[0;34m\u001b[0m\u001b[0;34m\u001b[0m\u001b[0;34m\u001b[0m\u001b[0m\n",
      "\u001b[0;32m~/anaconda3/lib/python3.8/site-packages/pandas/core/dtypes/cast.py\u001b[0m in \u001b[0;36mmaybe_cast_to_datetime\u001b[0;34m(value, dtype)\u001b[0m\n\u001b[1;32m   1382\u001b[0m     \u001b[0mnan\u001b[0m \u001b[0mto\u001b[0m \u001b[0miNaT\u001b[0m\u001b[0;34m\u001b[0m\u001b[0;34m\u001b[0m\u001b[0m\n\u001b[1;32m   1383\u001b[0m     \"\"\"\n\u001b[0;32m-> 1384\u001b[0;31m     \u001b[0;32mfrom\u001b[0m \u001b[0mpandas\u001b[0m\u001b[0;34m.\u001b[0m\u001b[0mcore\u001b[0m\u001b[0;34m.\u001b[0m\u001b[0mtools\u001b[0m\u001b[0;34m.\u001b[0m\u001b[0mdatetimes\u001b[0m \u001b[0;32mimport\u001b[0m \u001b[0mto_datetime\u001b[0m\u001b[0;34m\u001b[0m\u001b[0;34m\u001b[0m\u001b[0m\n\u001b[0m\u001b[1;32m   1385\u001b[0m     \u001b[0;32mfrom\u001b[0m \u001b[0mpandas\u001b[0m\u001b[0;34m.\u001b[0m\u001b[0mcore\u001b[0m\u001b[0;34m.\u001b[0m\u001b[0mtools\u001b[0m\u001b[0;34m.\u001b[0m\u001b[0mtimedeltas\u001b[0m \u001b[0;32mimport\u001b[0m \u001b[0mto_timedelta\u001b[0m\u001b[0;34m\u001b[0m\u001b[0;34m\u001b[0m\u001b[0m\n\u001b[1;32m   1386\u001b[0m \u001b[0;34m\u001b[0m\u001b[0m\n",
      "\u001b[0;31mKeyboardInterrupt\u001b[0m: "
     ]
    }
   ],
   "source": [
    "for SIGMA in list(np.arange(3, 5.5, 1.0)):\n",
    "    metrics[SIGMA] = {}\n",
    "    for SMOOTH in range(0, 3):\n",
    "        metrics[SIGMA][SMOOTH] = {}\n",
    "        DPS = disperse.Disperse3D(\n",
    "            coma_DR12, sdss_opt_gr, '_disperse_03/bin/',\n",
    "            H0, Om, Ol, Ok,\n",
    "            sph2cart_f=sph2cart\n",
    "        )\n",
    "        DPS.count_cart_coords()\n",
    "        DPS.apply_disperse(SIGMA, SMOOTH, BOARD, ANGLE, in_cart_coords)\n",
    "        true_inter = []\n",
    "        true_fils_inter = []\n",
    "        for COEF in tqdm(RAD_COEFS):\n",
    "            cl_conn, fils_conn = DPS.count_conn(\n",
    "                [COEF] * sdss_opt_gr.shape[0]\n",
    "            )\n",
    "            true_inter.append(sum(list(map(lambda x: int(x>0), cl_conn))))\n",
    "            true_fils_inter.append(sum(list(map(lambda x: int(x>0), fils_conn))))\n",
    "        true_inter = np.array(true_inter)\n",
    "        true_fils_inter = np.array(true_fils_inter)\n",
    "        \n",
    "        false_inter = []\n",
    "        false_fils_inter = []\n",
    "        for i in tqdm(range(random_clusters_num)):\n",
    "            false_inter.append([])\n",
    "            false_fils_inter.append([])\n",
    "            for COEF in RAD_COEFS:\n",
    "                cl_conn, fils_conn = DPS.count_conn(\n",
    "                    [COEF] * sdss_opt_gr.shape[0],\n",
    "#                     sdss_opt_gr['R200'] * COEF,\n",
    "                    random_clusters[i]\n",
    "                )\n",
    "                false_inter[i].append(sum(list(map(lambda x: int(x>0), cl_conn))))\n",
    "                false_fils_inter[i].append(sum(list(map(lambda x: int(x>0), fils_conn))))\n",
    "                \n",
    "        false_inter = np.array(false_inter).mean(0)\n",
    "        false_fils_inter = np.array(false_fils_inter).mean(0)\n",
    "        \n",
    "        diff = true_inter - false_inter\n",
    "        fils_diff = true_fils_inter - false_fils_inter\n",
    "        \n",
    "        true_inter = [int(e) for e in true_inter]\n",
    "        false_inter = [float(e) for e in false_inter]\n",
    "        diff = [float(e) for e in diff]\n",
    "        true_fils_inter = [int(e) for e in true_fils_inter]\n",
    "        false_fils_inter = [int(e) for e in false_fils_inter]\n",
    "        fils_diff = [int(e) for e in fils_diff]\n",
    "        \n",
    "        metrics[SIGMA][SMOOTH]['true'] = list(true_inter)\n",
    "        metrics[SIGMA][SMOOTH]['false'] = list(false_inter)\n",
    "        metrics[SIGMA][SMOOTH]['diff'] = list(diff)\n",
    "        metrics[SIGMA][SMOOTH]['fils_num'] = len(DPS.fils)\n",
    "        metrics[SIGMA][SMOOTH]['true_fils_inter'] = list(true_fils_inter)\n",
    "        metrics[SIGMA][SMOOTH]['false_fils_inter'] = list(false_fils_inter)\n",
    "        metrics[SIGMA][SMOOTH]['fils_diff'] = list(fils_diff)"
   ]
  },
  {
   "cell_type": "code",
   "execution_count": null,
   "id": "a39be976",
   "metadata": {},
   "outputs": [],
   "source": [
    "metrics"
   ]
  },
  {
   "cell_type": "code",
   "execution_count": null,
   "id": "c0697d51",
   "metadata": {},
   "outputs": [],
   "source": [
    "with open(\"metrics_temp.json\", \"w\") as f:\n",
    "    json.dump(metrics, f)"
   ]
  },
  {
   "cell_type": "code",
   "execution_count": null,
   "id": "b83705b8",
   "metadata": {},
   "outputs": [],
   "source": []
  }
 ],
 "metadata": {
  "kernelspec": {
   "display_name": "Python 3",
   "language": "python",
   "name": "python3"
  },
  "language_info": {
   "codemirror_mode": {
    "name": "ipython",
    "version": 3
   },
   "file_extension": ".py",
   "mimetype": "text/x-python",
   "name": "python",
   "nbconvert_exporter": "python",
   "pygments_lexer": "ipython3",
   "version": "3.8.8"
  }
 },
 "nbformat": 4,
 "nbformat_minor": 5
}
