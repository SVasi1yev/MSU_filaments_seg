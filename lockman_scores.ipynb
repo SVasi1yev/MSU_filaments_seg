{
 "cells": [
  {
   "cell_type": "code",
   "execution_count": null,
   "id": "96d3ea33",
   "metadata": {},
   "outputs": [],
   "source": [
    "import pandas as pd\n",
    "import numpy as np\n",
    "from astropy.cosmology import Planck13\n",
    "from astropy.io import fits\n",
    "from astropy.table import Table\n",
    "from tqdm import tqdm\n",
    "%matplotlib inline\n",
    "import matplotlib.pyplot as plt\n",
    "\n",
    "import disperse"
   ]
  },
  {
   "cell_type": "code",
   "execution_count": null,
   "id": "b65892be",
   "metadata": {},
   "outputs": [],
   "source": [
    "cosmo = Planck13\n",
    "H0 = cosmo.H0.value\n",
    "Om = cosmo.Om0\n",
    "Ol = 0.69288\n",
    "Ok = 0.0\n",
    "print(f'H0 = {cosmo.H0.value}')\n",
    "print(f'Om = {cosmo.Om0}')\n",
    "print(f'Ol = {0.69288}')"
   ]
  },
  {
   "cell_type": "code",
   "execution_count": null,
   "id": "2f3413df",
   "metadata": {},
   "outputs": [],
   "source": [
    "import pickle"
   ]
  },
  {
   "cell_type": "code",
   "execution_count": null,
   "id": "b129c42e",
   "metadata": {},
   "outputs": [],
   "source": [
    "with open('srclist_lockman_032_wvsh.pkl', 'rb') as f:\n",
    "    data = pickle.load(f)"
   ]
  },
  {
   "cell_type": "code",
   "execution_count": null,
   "id": "08ca0fbe",
   "metadata": {
    "scrolled": false
   },
   "outputs": [],
   "source": [
    "data"
   ]
  },
  {
   "cell_type": "code",
   "execution_count": null,
   "id": "088a4a39",
   "metadata": {},
   "outputs": [],
   "source": [
    "data['RA'].min(), data['RA'].max()"
   ]
  },
  {
   "cell_type": "code",
   "execution_count": null,
   "id": "85cbb64b",
   "metadata": {},
   "outputs": [],
   "source": [
    "data['DEC'].min(), data['DEC'].max()"
   ]
  },
  {
   "cell_type": "code",
   "execution_count": null,
   "id": "7f1244d6",
   "metadata": {},
   "outputs": [],
   "source": [
    "data[data['EXT_LIKE'] > 0]"
   ]
  },
  {
   "cell_type": "code",
   "execution_count": null,
   "id": "cbbdc16a",
   "metadata": {},
   "outputs": [],
   "source": [
    "galaxies = pd.read_csv('SDSS/SDSS_DR16.csv')"
   ]
  },
  {
   "cell_type": "code",
   "execution_count": null,
   "id": "5337f006",
   "metadata": {},
   "outputs": [],
   "source": [
    "galaxies"
   ]
  },
  {
   "cell_type": "code",
   "execution_count": null,
   "id": "698d61c3",
   "metadata": {},
   "outputs": [],
   "source": [
    "galaxies = pd.read_csv('SDSS/SDSS_DR16.csv')\n",
    "galaxies = galaxies[galaxies['class'] == 'GALAXY']\n",
    "galaxies = galaxies[(150 <= galaxies['ra']) & (galaxies['ra'] <= 172)]\n",
    "galaxies = galaxies[(50 <= galaxies['dec']) & (galaxies['dec'] <= 65.5)]\n",
    "galaxies = galaxies[(0.00 < galaxies['z']) & (galaxies['z'] <= 1.7)]\n",
    "galaxies = galaxies[['ra', 'dec', 'z']]\n",
    "galaxies.columns = ['RA', 'DEC', 'Z']\n",
    "galaxies.drop_duplicates(subset=['RA', 'DEC', 'Z'])\n",
    "galaxies.reset_index(drop=True, inplace=True)\n",
    "galaxies"
   ]
  },
  {
   "cell_type": "code",
   "execution_count": null,
   "id": "bb3ec7af",
   "metadata": {},
   "outputs": [],
   "source": [
    "clusters = data.copy()\n",
    "clusters = clusters[clusters['EXT_LIKE'] > 0]\n",
    "clusters = clusters[['ID_SRC', 'RA', 'DEC']]\n",
    "clusters.reset_index(drop=True, inplace=True)\n",
    "clusters"
   ]
  },
  {
   "cell_type": "code",
   "execution_count": null,
   "id": "28ac3be0",
   "metadata": {},
   "outputs": [],
   "source": [
    "z = [round(0.05 + 0.002 * i, 5) for i in range(0, 751)]\n",
    "# z = [round(0.05 + 0.05 * i, 5) for i in range(0, 31)]\n",
    "# print(z)\n",
    "# print('>>> ', z[-1])\n",
    "ID, RA, DEC, Z = [], [], [], []\n",
    "for i in range(clusters.shape[0]):\n",
    "    row = clusters.iloc[i]\n",
    "    ID = ID + [int(row['ID_SRC'])] * len(z)\n",
    "    RA = RA + [row['RA']] * len(z)\n",
    "    DEC = DEC + [row['DEC']] * len(z)\n",
    "    Z = Z + z.copy()\n",
    "len(ID), len(RA), len(DEC), len(Z)"
   ]
  },
  {
   "cell_type": "code",
   "execution_count": null,
   "id": "ce289cb6",
   "metadata": {},
   "outputs": [],
   "source": [
    "clusters = pd.DataFrame({'ID': ID, 'RA': RA, 'DEC': DEC, 'Z': Z})\n",
    "clusters"
   ]
  },
  {
   "cell_type": "code",
   "execution_count": null,
   "id": "0f5d512c",
   "metadata": {},
   "outputs": [],
   "source": [
    "DPS = disperse.Disperse3D(\n",
    "    galaxies, '_disperse_03/bin/',\n",
    "    H0, Om, Ol, Ok,\n",
    "    clusters=clusters\n",
    ")"
   ]
  },
  {
   "cell_type": "code",
   "execution_count": null,
   "id": "d8d3c7aa",
   "metadata": {},
   "outputs": [],
   "source": [
    "DPS.count_cart_coords()"
   ]
  },
  {
   "cell_type": "code",
   "execution_count": null,
   "id": "ff243248",
   "metadata": {},
   "outputs": [],
   "source": [
    "SIGMA = 5.0\n",
    "SMOOTH = 1\n",
    "BOARD = 'smooth'\n",
    "ANGLE = 30"
   ]
  },
  {
   "cell_type": "code",
   "execution_count": null,
   "id": "c761e3a1",
   "metadata": {},
   "outputs": [],
   "source": [
    "sigmas = [\n",
    "         0.2, 0.4, 0.6, 0.8,\n",
    "    1.0, 1.2, 1.4, 1.6, 1.8,\n",
    "    2.0, 2.2, 2.4, 2.6, 2.8,\n",
    "    3.0, 3.2, 3.4, 3.6, 3.8, \n",
    "    4.0, 4.2, 4.4, 4.6, 4.8, \n",
    "    5.0, 5.2, 5.4, 5.6, 5.8, \n",
    "    6.0, 6.2, 6.4, 6.6, 6.8,\n",
    "    7.0, 7.2, 7.4, 7.6, 7.8,\n",
    "    8.0\n",
    "]"
   ]
  },
  {
   "cell_type": "code",
   "execution_count": null,
   "id": "17e10c2b",
   "metadata": {},
   "outputs": [],
   "source": [
    "for sigma in sigmas:\n",
    "    SIGMA = sigma\n",
    "    print('### ', SIGMA)\n",
    "    DPS.apply_disperse(SIGMA, SMOOTH, BOARD, ANGLE)\n",
    "    DPS.save(f'lockman_dumps/{SIGMA}/')"
   ]
  },
  {
   "cell_type": "code",
   "execution_count": null,
   "id": "739ce011",
   "metadata": {},
   "outputs": [],
   "source": [
    "cl_dists = []\n",
    "for sigma in tqdm(sigmas):\n",
    "    DPS = disperse.Disperse3D.read(f'lockman_dumps/{sigma}/')\n",
    "    \n",
    "    cl_conn, fil_conn, cl_min_dists \\\n",
    "        = DPS.count_conn([3] * DPS.clusters.shape[0])\n",
    "    cl_dists.append(np.array(cl_min_dists)[None,:])\n",
    "    \n",
    "dists = np.concatenate(cl_dists, axis=0)"
   ]
  },
  {
   "cell_type": "code",
   "execution_count": null,
   "id": "26e3a7dd",
   "metadata": {},
   "outputs": [],
   "source": [
    "dists = dists.T"
   ]
  },
  {
   "cell_type": "code",
   "execution_count": null,
   "id": "1ba26e10",
   "metadata": {},
   "outputs": [],
   "source": [
    "dists.shape"
   ]
  },
  {
   "cell_type": "code",
   "execution_count": null,
   "id": "3790c43e",
   "metadata": {},
   "outputs": [],
   "source": [
    "rads = list(range(1, 11))"
   ]
  },
  {
   "cell_type": "code",
   "execution_count": null,
   "id": "f6bc39fb",
   "metadata": {},
   "outputs": [],
   "source": [
    "true_sigmas = []\n",
    "\n",
    "for i, rad in enumerate(rads):\n",
    "    t = np.zeros(clusters.shape[0])\n",
    "    for j, sigma in tqdm(enumerate(sigmas)):\n",
    "#         DPS = disperse.Disperse3D.read(f'lockman_dumps/{sigma}/')\n",
    "\n",
    "#         cl_conn, fil_conn, cl_dists \\\n",
    "#             = DPS.count_conn([rad] * DPS.clusters.shape[0])\n",
    "#         cl_conn = np.array(cl_conn)\n",
    "#         t[cl_conn > 0] = sigma\n",
    "        t[dists[:,j] <= rad] = sigma\n",
    "\n",
    "    true_sigmas.append(t)\n",
    "    \n",
    "true_sigmas = np.array(true_sigmas)"
   ]
  },
  {
   "cell_type": "code",
   "execution_count": null,
   "id": "6d106ace",
   "metadata": {},
   "outputs": [],
   "source": [
    "true_sigmas = true_sigmas.T"
   ]
  },
  {
   "cell_type": "code",
   "execution_count": null,
   "id": "bfd2e891",
   "metadata": {},
   "outputs": [],
   "source": [
    "true_sigmas.shape"
   ]
  },
  {
   "cell_type": "code",
   "execution_count": null,
   "id": "d7c0ef76",
   "metadata": {},
   "outputs": [],
   "source": [
    "true_sigmas_4 = true_sigmas[:,3]"
   ]
  },
  {
   "cell_type": "code",
   "execution_count": null,
   "id": "3e2c792d",
   "metadata": {},
   "outputs": [],
   "source": [
    "with open('coma_log_reg.pkl', 'rb') as f:\n",
    "    log_reg = pickle.load(f)"
   ]
  },
  {
   "cell_type": "code",
   "execution_count": null,
   "id": "0b94693a",
   "metadata": {},
   "outputs": [],
   "source": [
    "log_reg_scores = log_reg.predict_proba(dists)[:,1].reshape(-1)"
   ]
  },
  {
   "cell_type": "code",
   "execution_count": null,
   "id": "ad076bfc",
   "metadata": {},
   "outputs": [],
   "source": [
    "log_reg_scores"
   ]
  },
  {
   "cell_type": "code",
   "execution_count": null,
   "id": "d4d2eab1",
   "metadata": {},
   "outputs": [],
   "source": [
    "np.corrcoef(true_sigmas[:,4], log_reg_scores)"
   ]
  },
  {
   "cell_type": "code",
   "execution_count": null,
   "id": "86e41c23",
   "metadata": {},
   "outputs": [],
   "source": [
    "clusters"
   ]
  },
  {
   "cell_type": "code",
   "execution_count": null,
   "id": "818611a6",
   "metadata": {},
   "outputs": [],
   "source": [
    "t_01 = clusters.assign(sigma_4_score=true_sigmas[:,3])\n",
    "t_01 = t_01.assign(log_reg_score=log_reg_scores)\n",
    "t_01"
   ]
  },
  {
   "cell_type": "code",
   "execution_count": null,
   "id": "47e7183f",
   "metadata": {},
   "outputs": [],
   "source": [
    "t_02 = data[['ID_SRC', 'EXT_LIKE']]\n",
    "t_02.columns = ['ID', 'EXT_LIKE']\n",
    "t_02"
   ]
  },
  {
   "cell_type": "code",
   "execution_count": null,
   "id": "76fa1d84",
   "metadata": {},
   "outputs": [],
   "source": [
    "res = pd.merge(t_01, t_02, left_on='ID', right_on='ID')\n",
    "res = res.sort_values(by=['ID', 'Z'])\n",
    "res.reset_index(drop=True, inplace=True)"
   ]
  },
  {
   "cell_type": "code",
   "execution_count": null,
   "id": "2c4e0b96",
   "metadata": {},
   "outputs": [],
   "source": [
    "res"
   ]
  },
  {
   "cell_type": "code",
   "execution_count": null,
   "id": "b426758c",
   "metadata": {},
   "outputs": [],
   "source": [
    "res['ID'].unique()"
   ]
  },
  {
   "cell_type": "code",
   "execution_count": null,
   "id": "4f96cb0f",
   "metadata": {},
   "outputs": [],
   "source": [
    "font = {'size': 16}\n",
    "plt.rc('font', **font)\n",
    "fig = plt.figure(figsize=(24, 12))\n",
    "plt.grid()\n",
    "\n",
    "ID = 8409\n",
    "l = 300\n",
    "\n",
    "plt.plot(\n",
    "    res[res['ID'] == ID]['Z'][:l],\n",
    "    res[res['ID'] == ID]['log_reg_score'][:l] * 8,\n",
    "    label='log_reg'\n",
    ")\n",
    "plt.plot(\n",
    "    res[res['ID'] == ID]['Z'][:l],\n",
    "    res[res['ID'] == ID]['sigma_4_score'][:l],\n",
    "    label='sigma',\n",
    "    alpha=0.5,\n",
    "    c='r'\n",
    ")\n",
    "plt.xlabel('Z')\n",
    "plt.ylabel('score')\n",
    "plt.legend()"
   ]
  },
  {
   "cell_type": "code",
   "execution_count": null,
   "id": "6241a9de",
   "metadata": {},
   "outputs": [],
   "source": [
    "res[res['ID'] == ID]['EXT_LIKE']"
   ]
  },
  {
   "cell_type": "code",
   "execution_count": null,
   "id": "f632d2c5",
   "metadata": {},
   "outputs": [],
   "source": [
    "res[res['ID'] == 29]['log_reg_score'].plot()"
   ]
  },
  {
   "cell_type": "code",
   "execution_count": null,
   "id": "b620a698",
   "metadata": {},
   "outputs": [],
   "source": [
    "res[res['ID'] == 29]['sigma_4_score'].plot()"
   ]
  },
  {
   "cell_type": "code",
   "execution_count": null,
   "id": "eae172b3",
   "metadata": {},
   "outputs": [],
   "source": [
    "DPS.clusters"
   ]
  },
  {
   "cell_type": "code",
   "execution_count": null,
   "id": "b8765df3",
   "metadata": {},
   "outputs": [],
   "source": [
    "# x1 = -115.432782\n",
    "# y1 = 31.776151\n",
    "# z1 = 182.911628\n",
    "# x2 = -228.104405\n",
    "# y2 = 62.792215\n",
    "# z2 = 361.447997\n",
    "# ((x1 - x2)**2 + (y1 - y2)**2 + (z1 - z2)**2)**0.5"
   ]
  },
  {
   "cell_type": "code",
   "execution_count": null,
   "id": "a4d93d04",
   "metadata": {},
   "outputs": [],
   "source": []
  }
 ],
 "metadata": {
  "kernelspec": {
   "display_name": "Python 3",
   "language": "python",
   "name": "python3"
  },
  "language_info": {
   "codemirror_mode": {
    "name": "ipython",
    "version": 3
   },
   "file_extension": ".py",
   "mimetype": "text/x-python",
   "name": "python",
   "nbconvert_exporter": "python",
   "pygments_lexer": "ipython3",
   "version": "3.8.8"
  }
 },
 "nbformat": 4,
 "nbformat_minor": 5
}
